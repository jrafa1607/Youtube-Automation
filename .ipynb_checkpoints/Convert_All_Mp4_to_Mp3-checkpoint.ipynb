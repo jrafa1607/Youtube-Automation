{
 "cells": [
  {
   "cell_type": "code",
   "execution_count": 1,
   "id": "adaf9f40",
   "metadata": {},
   "outputs": [],
   "source": [
    "#Import das Bibliotcas\n",
    "import subprocess\n",
    "import os"
   ]
  },
  {
   "cell_type": "code",
   "execution_count": 2,
   "id": "6ff537cc",
   "metadata": {},
   "outputs": [],
   "source": [
    "def convert_to_mp3(input_folder, output_folder):\n",
    "    # Create the output folder if it doesn't exist\n",
    "    if not os.path.exists(output_folder):\n",
    "        os.makedirs(output_folder)\n",
    "\n",
    "    # Loop through all files in the input folder\n",
    "    for filename in os.listdir(input_folder):\n",
    "        if filename.endswith(\".mp4\"):\n",
    "            input_path = os.path.join(input_folder, filename)\n",
    "            output_filename = os.path.splitext(filename)[0] + \".mp3\"\n",
    "            output_path = os.path.join(output_folder, output_filename)\n",
    "\n",
    "            # Use FFmpeg to convert the MP4 file to MP3\n",
    "            subprocess.run(['ffmpeg', '-i', input_path, '-vn', '-acodec', 'libmp3lame', output_path], capture_output=True)\n",
    "            print(f\"Converted {filename} to MP3\")"
   ]
  },
  {
   "cell_type": "code",
   "execution_count": 3,
   "id": "8b5c62ba",
   "metadata": {},
   "outputs": [],
   "source": [
    "#Definicao das Pastas\n",
    "input_folder = \"D:/Google Drive/Github/Youtube-Automation/Músicas\"\n",
    "output_folder = \"D:/Google Drive/Github/Youtube-Automation/Músicas\""
   ]
  },
  {
   "cell_type": "code",
   "execution_count": 4,
   "id": "f40e3993",
   "metadata": {},
   "outputs": [
    {
     "name": "stdout",
     "output_type": "stream",
     "text": [
      "Converted Crimson King.mp4 to MP3\n",
      "Converted Invincible.mp4 to MP3\n"
     ]
    }
   ],
   "source": [
    "#Execucao do Codigo\n",
    "convert_to_mp3(input_folder, output_folder)"
   ]
  }
 ],
 "metadata": {
  "kernelspec": {
   "display_name": "Python 3 (ipykernel)",
   "language": "python",
   "name": "python3"
  },
  "language_info": {
   "codemirror_mode": {
    "name": "ipython",
    "version": 3
   },
   "file_extension": ".py",
   "mimetype": "text/x-python",
   "name": "python",
   "nbconvert_exporter": "python",
   "pygments_lexer": "ipython3",
   "version": "3.9.12"
  }
 },
 "nbformat": 4,
 "nbformat_minor": 5
}

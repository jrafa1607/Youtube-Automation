{
 "cells": [
  {
   "cell_type": "code",
   "execution_count": 1,
   "id": "adaf9f40",
   "metadata": {},
   "outputs": [],
   "source": [
    "#Import das Bibliotcas\n",
    "import youtube_dl\n",
    "import subprocess\n",
    "import pafy\n",
    "import os\n",
    "from pytube import YouTube\n",
    "from pydub import AudioSegment"
   ]
  },
  {
   "cell_type": "code",
   "execution_count": 2,
   "id": "a5d7b44f",
   "metadata": {},
   "outputs": [],
   "source": [
    "#Function para Realizar o Download do MP3\n",
    "def extract_audio(url):\n",
    "    try:\n",
    "        yt = YouTube(url)\n",
    "        audio_stream = yt.streams.filter(only_audio=True).first()\n",
    "        output_filename = f\"{yt.title}.mp3\"\n",
    "        # Replace invalid characters with underscores\n",
    "        output_filename = ''.join(c if c.isalnum() or c in ['.', ' ', '_', '-'] else '_' for c in output_filename)\n",
    "        output_path = os.path.join(os.getcwd(), output_filename)\n",
    "        audio_stream.download(output_path=output_path)\n",
    "        print(f\"Extracted audio from {url}\")\n",
    "    except Exception as e:\n",
    "        print(f\"Failed to extract audio from {url}: {e}\")"
   ]
  },
  {
   "cell_type": "code",
   "execution_count": 3,
   "id": "f9809289",
   "metadata": {},
   "outputs": [],
   "source": [
    "def runExec():\n",
    "    input_file = \"youtube.txt\"\n",
    "    if not os.path.exists(input_file):\n",
    "        print(f\"File '{input_file}' not found.\")\n",
    "        return\n",
    "\n",
    "    with open(input_file, 'r') as file:\n",
    "        urls = file.readlines()\n",
    "        for url in urls:\n",
    "            url = url.strip()  # Remove any leading/trailing whitespaces or newlines\n",
    "            if url.startswith(\"http\"):\n",
    "                print(f\"Processing {url}...\")\n",
    "                extract_audio(url)\n",
    "            else:\n",
    "                print(f\"Invalid URL: {url}\")"
   ]
  },
  {
   "cell_type": "code",
   "execution_count": 4,
   "id": "f40e3993",
   "metadata": {},
   "outputs": [
    {
     "name": "stdout",
     "output_type": "stream",
     "text": [
      "Processing https://www.youtube.com/watch?v=QHKyjBF55DM&pp=ygUaZGVtb25zICYgd2l6YXJkcyBpbnZpY2libGU%3D...\n",
      "Extracted audio from https://www.youtube.com/watch?v=QHKyjBF55DM&pp=ygUaZGVtb25zICYgd2l6YXJkcyBpbnZpY2libGU%3D\n",
      "Processing https://www.youtube.com/watch?v=9vVe9TITFXI&pp=ygUdZGVtb25zICYgd2l6YXJkcyBjcmltc29uIGtpbmc%3D...\n",
      "Extracted audio from https://www.youtube.com/watch?v=9vVe9TITFXI&pp=ygUdZGVtb25zICYgd2l6YXJkcyBjcmltc29uIGtpbmc%3D\n"
     ]
    }
   ],
   "source": [
    "#Execucao do Codigo\n",
    "runExec()"
   ]
  }
 ],
 "metadata": {
  "kernelspec": {
   "display_name": "Python 3 (ipykernel)",
   "language": "python",
   "name": "python3"
  },
  "language_info": {
   "codemirror_mode": {
    "name": "ipython",
    "version": 3
   },
   "file_extension": ".py",
   "mimetype": "text/x-python",
   "name": "python",
   "nbconvert_exporter": "python",
   "pygments_lexer": "ipython3",
   "version": "3.9.12"
  }
 },
 "nbformat": 4,
 "nbformat_minor": 5
}

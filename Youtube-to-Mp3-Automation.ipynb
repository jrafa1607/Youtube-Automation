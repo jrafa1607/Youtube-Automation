{
 "cells": [
  {
   "cell_type": "code",
   "execution_count": 1,
   "id": "adaf9f40",
   "metadata": {},
   "outputs": [],
   "source": [
    "#Import das Bibliotcas\n",
    "import youtube_dl\n",
    "from mutagen.mp3 import MP3\n",
    "from pydub import AudioSegment;\n",
    "from pydub.playback import play;\n",
    "from moviepy.editor import AudioFileClip;"
   ]
  },
  {
   "cell_type": "code",
   "execution_count": 2,
   "id": "05a2ef51",
   "metadata": {},
   "outputs": [],
   "source": [
    "#Leitura dos Links do Youtube\n",
    "with open('youtube.txt') as f:\n",
    "    urls = f.readlines()"
   ]
  },
  {
   "cell_type": "code",
   "execution_count": 3,
   "id": "13e0b917",
   "metadata": {},
   "outputs": [
    {
     "name": "stdout",
     "output_type": "stream",
     "text": [
      "[youtube] p03TIGqEc8o: Downloading webpage\n",
      "[youtube] p03TIGqEc8o: Downloading webpage\n",
      "[download] Destination: Sofia Reyes - 1, 2, 3 (feat. Jason Derulo & De La Ghetto) [Official Video].mp3\n",
      "[download] 100% of 3.25MiB in 00:49                 \n",
      "MoviePy - Writing audio in Sofia Reyes - 1, 2, 3 (feat. Jason Derulo & De La Ghetto) [Official Video].mp3_new.mp3\n"
     ]
    },
    {
     "name": "stderr",
     "output_type": "stream",
     "text": [
      "                                                                                                                       \r"
     ]
    },
    {
     "name": "stdout",
     "output_type": "stream",
     "text": [
      "MoviePy - Done.\n",
      "MoviePy - Writing audio in Sofia Reyes - 1, 2, 3 (feat. Jason Derulo & De La Ghetto) [Official Video].mp3_part0.mp3\n"
     ]
    },
    {
     "name": "stderr",
     "output_type": "stream",
     "text": [
      "                                                                                                                       \r"
     ]
    },
    {
     "name": "stdout",
     "output_type": "stream",
     "text": [
      "MoviePy - Done.\n",
      "MoviePy - Writing audio in Sofia Reyes - 1, 2, 3 (feat. Jason Derulo & De La Ghetto) [Official Video].mp3_part1.mp3\n"
     ]
    },
    {
     "name": "stderr",
     "output_type": "stream",
     "text": [
      "                                                                                                                       \r"
     ]
    },
    {
     "name": "stdout",
     "output_type": "stream",
     "text": [
      "MoviePy - Done.\n",
      "MoviePy - Writing audio in Sofia Reyes - 1, 2, 3 (feat. Jason Derulo & De La Ghetto) [Official Video].mp3_part2.mp3\n"
     ]
    },
    {
     "name": "stderr",
     "output_type": "stream",
     "text": [
      "                                                                                                                       \r"
     ]
    },
    {
     "name": "stdout",
     "output_type": "stream",
     "text": [
      "MoviePy - Done.\n",
      "MoviePy - Writing audio in Sofia Reyes - 1, 2, 3 (feat. Jason Derulo & De La Ghetto) [Official Video].mp3_part_final.mp3\n"
     ]
    },
    {
     "name": "stderr",
     "output_type": "stream",
     "text": [
      "                                                                                                                       "
     ]
    },
    {
     "name": "stdout",
     "output_type": "stream",
     "text": [
      "MoviePy - Done.\n",
      "Download complete... Sofia Reyes - 1, 2, 3 (feat. Jason Derulo & De La Ghetto) [Official Video].mp3\n",
      "[youtube] aAQZPBwz2CI: Downloading webpage\n"
     ]
    },
    {
     "name": "stderr",
     "output_type": "stream",
     "text": [
      "\r"
     ]
    },
    {
     "name": "stdout",
     "output_type": "stream",
     "text": [
      "[youtube] aAQZPBwz2CI: Downloading webpage\n",
      "[download] Destination: Madonna - 4 Minutes feat. Justin Timberlake & Timbaland (Official Video).mp3\n",
      "[download] 100% of 3.85MiB in 01:00                 \n",
      "MoviePy - Writing audio in Madonna - 4 Minutes feat. Justin Timberlake & Timbaland (Official Video).mp3_new.mp3\n"
     ]
    },
    {
     "name": "stderr",
     "output_type": "stream",
     "text": [
      "                                                                                                                       \r"
     ]
    },
    {
     "name": "stdout",
     "output_type": "stream",
     "text": [
      "MoviePy - Done.\n",
      "MoviePy - Writing audio in Madonna - 4 Minutes feat. Justin Timberlake & Timbaland (Official Video).mp3_part0.mp3\n"
     ]
    },
    {
     "name": "stderr",
     "output_type": "stream",
     "text": [
      "                                                                                                                       \r"
     ]
    },
    {
     "name": "stdout",
     "output_type": "stream",
     "text": [
      "MoviePy - Done.\n",
      "MoviePy - Writing audio in Madonna - 4 Minutes feat. Justin Timberlake & Timbaland (Official Video).mp3_part1.mp3\n"
     ]
    },
    {
     "name": "stderr",
     "output_type": "stream",
     "text": [
      "                                                                                                                       \r"
     ]
    },
    {
     "name": "stdout",
     "output_type": "stream",
     "text": [
      "MoviePy - Done.\n",
      "MoviePy - Writing audio in Madonna - 4 Minutes feat. Justin Timberlake & Timbaland (Official Video).mp3_part2.mp3\n"
     ]
    },
    {
     "name": "stderr",
     "output_type": "stream",
     "text": [
      "                                                                                                                       \r"
     ]
    },
    {
     "name": "stdout",
     "output_type": "stream",
     "text": [
      "MoviePy - Done.\n",
      "MoviePy - Writing audio in Madonna - 4 Minutes feat. Justin Timberlake & Timbaland (Official Video).mp3_part3.mp3\n"
     ]
    },
    {
     "name": "stderr",
     "output_type": "stream",
     "text": [
      "                                                                                                                       \r"
     ]
    },
    {
     "name": "stdout",
     "output_type": "stream",
     "text": [
      "MoviePy - Done.\n",
      "MoviePy - Writing audio in Madonna - 4 Minutes feat. Justin Timberlake & Timbaland (Official Video).mp3_part_final.mp3\n"
     ]
    },
    {
     "name": "stderr",
     "output_type": "stream",
     "text": [
      "                                                                                                                       "
     ]
    },
    {
     "name": "stdout",
     "output_type": "stream",
     "text": [
      "MoviePy - Done.\n",
      "Download complete... Madonna - 4 Minutes feat. Justin Timberlake & Timbaland (Official Video).mp3\n",
      "[youtube] UqyT8IEBkvY: Downloading webpage\n"
     ]
    },
    {
     "name": "stderr",
     "output_type": "stream",
     "text": [
      "\r"
     ]
    },
    {
     "name": "stdout",
     "output_type": "stream",
     "text": [
      "[youtube] UqyT8IEBkvY: Downloading webpage\n",
      "[download] Destination: Bruno Mars - 24K Magic (Official Music Video).mp3\n",
      "[download] 100% of 3.56MiB in 00:44                  \n",
      "MoviePy - Writing audio in Bruno Mars - 24K Magic (Official Music Video).mp3_new.mp3\n"
     ]
    },
    {
     "name": "stderr",
     "output_type": "stream",
     "text": [
      "                                                                                                                       \r"
     ]
    },
    {
     "name": "stdout",
     "output_type": "stream",
     "text": [
      "MoviePy - Done.\n",
      "MoviePy - Writing audio in Bruno Mars - 24K Magic (Official Music Video).mp3_part0.mp3\n"
     ]
    },
    {
     "name": "stderr",
     "output_type": "stream",
     "text": [
      "                                                                                                                       \r"
     ]
    },
    {
     "name": "stdout",
     "output_type": "stream",
     "text": [
      "MoviePy - Done.\n",
      "MoviePy - Writing audio in Bruno Mars - 24K Magic (Official Music Video).mp3_part1.mp3\n"
     ]
    },
    {
     "name": "stderr",
     "output_type": "stream",
     "text": [
      "                                                                                                                       \r"
     ]
    },
    {
     "name": "stdout",
     "output_type": "stream",
     "text": [
      "MoviePy - Done.\n",
      "MoviePy - Writing audio in Bruno Mars - 24K Magic (Official Music Video).mp3_part2.mp3\n"
     ]
    },
    {
     "name": "stderr",
     "output_type": "stream",
     "text": [
      "                                                                                                                       \r"
     ]
    },
    {
     "name": "stdout",
     "output_type": "stream",
     "text": [
      "MoviePy - Done.\n",
      "MoviePy - Writing audio in Bruno Mars - 24K Magic (Official Music Video).mp3_part3.mp3\n"
     ]
    },
    {
     "name": "stderr",
     "output_type": "stream",
     "text": [
      "                                                                                                                       \r"
     ]
    },
    {
     "name": "stdout",
     "output_type": "stream",
     "text": [
      "MoviePy - Done.\n",
      "MoviePy - Writing audio in Bruno Mars - 24K Magic (Official Music Video).mp3_part_final.mp3\n"
     ]
    },
    {
     "name": "stderr",
     "output_type": "stream",
     "text": [
      "                                                                                                                       "
     ]
    },
    {
     "name": "stdout",
     "output_type": "stream",
     "text": [
      "MoviePy - Done.\n",
      "Download complete... Bruno Mars - 24K Magic (Official Music Video).mp3\n"
     ]
    },
    {
     "name": "stderr",
     "output_type": "stream",
     "text": [
      "\r"
     ]
    }
   ],
   "source": [
    "#Laço de Repetição para Download do .mp3\n",
    "for i in range(len(urls)):\n",
    "    \n",
    "    #Pega cada item Listado no arquivo .txt e extrai informações de URL, Nome e Formato.\n",
    "    video_url = urls[i]\n",
    "    video_info = youtube_dl.YoutubeDL().extract_info(url = video_url,download=False);\n",
    "    filename = f\"{video_info['title']}.mp3\"\n",
    "    \n",
    "    options={\n",
    "        'format':'bestaudio/best',\n",
    "        'keepvideo':False,\n",
    "        'outtmpl':filename,\n",
    "    }\n",
    "    \n",
    "    #Pega as informações de Options e faz o Download do Mp3 de cada arquivo do Youtube\n",
    "    with youtube_dl.YoutubeDL(options) as ydl:\n",
    "        ydl.download([video_info['webpage_url']]);\n",
    "           \n",
    "    #Em seguida, pega cada arquivo mp3 baixado, carrega-o e divide seu cumprimento por partes de 52 segundos.\n",
    "    input_audio_clip = AudioFileClip(filename)\n",
    "    \n",
    "    #Para utilizar a biblioteca MP#, foi necessário importar o arquivo mp3 e escrevê-lo novamente com as Funções Clip\n",
    "    input_audio_clip.write_audiofile(str(filename) + \"_new.mp3\")\n",
    "    audio = MP3(str(filename) + \"_new.mp3\")\n",
    "    \n",
    "    #Variáveis de Controle para Split do mp3\n",
    "    begin = 0\n",
    "    end = 52\n",
    "    control = 52\n",
    "    \n",
    "    #Descobrindo o total de partes do .mp3\n",
    "    total_parts = int(audio.info.length // control)\n",
    "    \n",
    "    for n in range(total_parts):\n",
    "        \n",
    "        final_clip = input_audio_clip.subclip(begin, end)\n",
    "        final_clip.write_audiofile(str(filename) + \"_part\" + str(n) + \".mp3\")\n",
    "        \n",
    "        begin = begin + control\n",
    "        end = end + control\n",
    "    \n",
    "    last = total_parts * control\n",
    "    last_part_clip = input_audio_clip.subclip(last, int(audio.info.length))\n",
    "    final_clip.write_audiofile(str(filename) + \"_part\" + str(total_parts) + \"_final.mp3\")\n",
    "            \n",
    "    print(\"Download complete... {}\".format(filename))"
   ]
  }
 ],
 "metadata": {
  "kernelspec": {
   "display_name": "Python 3 (ipykernel)",
   "language": "python",
   "name": "python3"
  },
  "language_info": {
   "codemirror_mode": {
    "name": "ipython",
    "version": 3
   },
   "file_extension": ".py",
   "mimetype": "text/x-python",
   "name": "python",
   "nbconvert_exporter": "python",
   "pygments_lexer": "ipython3",
   "version": "3.9.12"
  }
 },
 "nbformat": 4,
 "nbformat_minor": 5
}
